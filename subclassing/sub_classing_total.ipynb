{
 "cells": [
  {
   "cell_type": "code",
   "execution_count": 1,
   "metadata": {},
   "outputs": [],
   "source": [
    "import pandas as pd\n",
    "import numpy as np \n",
    "import matplotlib.pyplot as plt\n",
    "import plotly.express as px\n",
    "import seaborn as sns\n",
    "import warnings\n",
    "warnings.filterwarnings(\"ignore\")\n",
    "import gensim\n",
    "import spacy\n",
    "import tensorflow as tf\n",
    "from tensorflow.keras.preprocessing.text import one_hot, Tokenizer\n",
    "from tensorflow.keras.preprocessing.sequence import pad_sequences\n",
    "from tensorflow.keras.models import Sequential\n",
    "from tensorflow.keras.layers import Activation, Dropout, Dense\n",
    "from tensorflow.keras.layers import Embedding, Conv1D, LSTM, Bidirectional"
   ]
  },
  {
   "cell_type": "code",
   "execution_count": 2,
   "metadata": {},
   "outputs": [
    {
     "name": "stdout",
     "output_type": "stream",
     "text": [
      "2.10.0\n"
     ]
    }
   ],
   "source": [
    "print(tf. __version__)"
   ]
  },
  {
   "cell_type": "markdown",
   "metadata": {},
   "source": [
    "### **Plan of Action**\n",
    "\n",
    "- Load the data\n",
    "- Drop unnecessary columns and rows\n",
    "- Removal of stop words.\n",
    "- Feature engineering;\n",
    "    - Glove-twitter-200\n",
    "- Begin modelling\n",
    "    - Algorithms to use;\n",
    "        - BiLSTM"
   ]
  },
  {
   "cell_type": "code",
   "execution_count": 3,
   "metadata": {},
   "outputs": [],
   "source": [
    "df_clean = pd.read_csv('../data/cleaned_reviews.csv')"
   ]
  },
  {
   "cell_type": "code",
   "execution_count": 4,
   "metadata": {},
   "outputs": [
    {
     "data": {
      "text/plain": [
       "(17340, 4)"
      ]
     },
     "execution_count": 4,
     "metadata": {},
     "output_type": "execute_result"
    }
   ],
   "source": [
    "df_clean.shape"
   ]
  },
  {
   "cell_type": "code",
   "execution_count": 5,
   "metadata": {},
   "outputs": [
    {
     "data": {
      "text/plain": [
       "Index(['sentiments', 'cleaned_review', 'cleaned_review_length',\n",
       "       'review_score'],\n",
       "      dtype='object')"
      ]
     },
     "execution_count": 5,
     "metadata": {},
     "output_type": "execute_result"
    }
   ],
   "source": [
    "df_clean.columns"
   ]
  },
  {
   "cell_type": "code",
   "execution_count": 6,
   "metadata": {},
   "outputs": [],
   "source": [
    "df_clean.drop(columns=['cleaned_review_length','review_score'],inplace=True)"
   ]
  },
  {
   "cell_type": "markdown",
   "metadata": {},
   "source": [
    "**Checking for Null Vaules and Duplicates**"
   ]
  },
  {
   "cell_type": "code",
   "execution_count": 7,
   "metadata": {},
   "outputs": [
    {
     "data": {
      "text/plain": [
       "sentiments        0\n",
       "cleaned_review    3\n",
       "dtype: int64"
      ]
     },
     "execution_count": 7,
     "metadata": {},
     "output_type": "execute_result"
    }
   ],
   "source": [
    "df_clean.isna().sum()"
   ]
  },
  {
   "cell_type": "code",
   "execution_count": 8,
   "metadata": {},
   "outputs": [],
   "source": [
    "df_clean.dropna(inplace=True)"
   ]
  },
  {
   "cell_type": "code",
   "execution_count": 9,
   "metadata": {},
   "outputs": [
    {
     "data": {
      "text/plain": [
       "(17337, 2)"
      ]
     },
     "execution_count": 9,
     "metadata": {},
     "output_type": "execute_result"
    }
   ],
   "source": [
    "df_clean.shape"
   ]
  },
  {
   "cell_type": "code",
   "execution_count": 10,
   "metadata": {},
   "outputs": [],
   "source": [
    "from spacy.lang.en.stop_words import STOP_WORDS\n",
    "\n",
    "all_stopwords = STOP_WORDS\n",
    "\n",
    "# Removing several stop words\n",
    "all_stopwords-= {'not',\"no\", \"n't\", 'n’t','n‘t','cannot','none','without','against','off','against','too'}\n",
    "my_stop_words = set(all_stopwords) # My own stop words"
   ]
  },
  {
   "cell_type": "code",
   "execution_count": 11,
   "metadata": {},
   "outputs": [
    {
     "data": {
      "text/html": [
       "<div>\n",
       "<style scoped>\n",
       "    .dataframe tbody tr th:only-of-type {\n",
       "        vertical-align: middle;\n",
       "    }\n",
       "\n",
       "    .dataframe tbody tr th {\n",
       "        vertical-align: top;\n",
       "    }\n",
       "\n",
       "    .dataframe thead th {\n",
       "        text-align: right;\n",
       "    }\n",
       "</style>\n",
       "<table border=\"1\" class=\"dataframe\">\n",
       "  <thead>\n",
       "    <tr style=\"text-align: right;\">\n",
       "      <th></th>\n",
       "      <th>sentiments</th>\n",
       "      <th>cleaned_review</th>\n",
       "    </tr>\n",
       "  </thead>\n",
       "  <tbody>\n",
       "    <tr>\n",
       "      <th>0</th>\n",
       "      <td>positive</td>\n",
       "      <td>i wish would have gotten one earlier love it a...</td>\n",
       "    </tr>\n",
       "    <tr>\n",
       "      <th>1</th>\n",
       "      <td>neutral</td>\n",
       "      <td>i ve learned this lesson again open the packag...</td>\n",
       "    </tr>\n",
       "    <tr>\n",
       "      <th>2</th>\n",
       "      <td>neutral</td>\n",
       "      <td>it is so slow and lags find better option</td>\n",
       "    </tr>\n",
       "    <tr>\n",
       "      <th>3</th>\n",
       "      <td>neutral</td>\n",
       "      <td>roller ball stopped working within months of m...</td>\n",
       "    </tr>\n",
       "    <tr>\n",
       "      <th>4</th>\n",
       "      <td>neutral</td>\n",
       "      <td>i like the color and size but it few days out ...</td>\n",
       "    </tr>\n",
       "    <tr>\n",
       "      <th>...</th>\n",
       "      <td>...</td>\n",
       "      <td>...</td>\n",
       "    </tr>\n",
       "    <tr>\n",
       "      <th>17335</th>\n",
       "      <td>positive</td>\n",
       "      <td>i love this speaker and love can take it anywh...</td>\n",
       "    </tr>\n",
       "    <tr>\n",
       "      <th>17336</th>\n",
       "      <td>positive</td>\n",
       "      <td>i use it in my house easy to connect and loud ...</td>\n",
       "    </tr>\n",
       "    <tr>\n",
       "      <th>17337</th>\n",
       "      <td>positive</td>\n",
       "      <td>the bass is good and the battery is amazing mu...</td>\n",
       "    </tr>\n",
       "    <tr>\n",
       "      <th>17338</th>\n",
       "      <td>positive</td>\n",
       "      <td>love it</td>\n",
       "    </tr>\n",
       "    <tr>\n",
       "      <th>17339</th>\n",
       "      <td>neutral</td>\n",
       "      <td>mono speaker</td>\n",
       "    </tr>\n",
       "  </tbody>\n",
       "</table>\n",
       "<p>17337 rows × 2 columns</p>\n",
       "</div>"
      ],
      "text/plain": [
       "      sentiments                                     cleaned_review\n",
       "0       positive  i wish would have gotten one earlier love it a...\n",
       "1        neutral  i ve learned this lesson again open the packag...\n",
       "2        neutral          it is so slow and lags find better option\n",
       "3        neutral  roller ball stopped working within months of m...\n",
       "4        neutral  i like the color and size but it few days out ...\n",
       "...          ...                                                ...\n",
       "17335   positive  i love this speaker and love can take it anywh...\n",
       "17336   positive  i use it in my house easy to connect and loud ...\n",
       "17337   positive  the bass is good and the battery is amazing mu...\n",
       "17338   positive                                            love it\n",
       "17339    neutral                                       mono speaker\n",
       "\n",
       "[17337 rows x 2 columns]"
      ]
     },
     "execution_count": 11,
     "metadata": {},
     "output_type": "execute_result"
    }
   ],
   "source": [
    "df_clean"
   ]
  },
  {
   "cell_type": "code",
   "execution_count": 12,
   "metadata": {},
   "outputs": [],
   "source": [
    "nlp = spacy.load(\"en_core_web_sm\")"
   ]
  },
  {
   "cell_type": "code",
   "execution_count": 13,
   "metadata": {},
   "outputs": [],
   "source": [
    "def spacy_tokeniser(sent):\n",
    "    sent = sent.strip().lower()\n",
    "    doc = nlp(sent)\n",
    "    mytokens = [token.lemma_ for token in doc if token.text not in my_stop_words]\n",
    "    return mytokens"
   ]
  },
  {
   "cell_type": "code",
   "execution_count": 14,
   "metadata": {},
   "outputs": [],
   "source": [
    "df_clean['tokens']= df_clean['cleaned_review'].apply(spacy_tokeniser)"
   ]
  },
  {
   "cell_type": "code",
   "execution_count": 15,
   "metadata": {},
   "outputs": [
    {
     "data": {
      "text/html": [
       "<div>\n",
       "<style scoped>\n",
       "    .dataframe tbody tr th:only-of-type {\n",
       "        vertical-align: middle;\n",
       "    }\n",
       "\n",
       "    .dataframe tbody tr th {\n",
       "        vertical-align: top;\n",
       "    }\n",
       "\n",
       "    .dataframe thead th {\n",
       "        text-align: right;\n",
       "    }\n",
       "</style>\n",
       "<table border=\"1\" class=\"dataframe\">\n",
       "  <thead>\n",
       "    <tr style=\"text-align: right;\">\n",
       "      <th></th>\n",
       "      <th>sentiments</th>\n",
       "      <th>cleaned_review</th>\n",
       "      <th>tokens</th>\n",
       "    </tr>\n",
       "  </thead>\n",
       "  <tbody>\n",
       "    <tr>\n",
       "      <th>0</th>\n",
       "      <td>positive</td>\n",
       "      <td>i wish would have gotten one earlier love it a...</td>\n",
       "      <td>[wish, get, early, love, make, work, laptop, e...</td>\n",
       "    </tr>\n",
       "    <tr>\n",
       "      <th>1</th>\n",
       "      <td>neutral</td>\n",
       "      <td>i ve learned this lesson again open the packag...</td>\n",
       "      <td>[ve, learn, lesson, open, package, use, produc...</td>\n",
       "    </tr>\n",
       "    <tr>\n",
       "      <th>2</th>\n",
       "      <td>neutral</td>\n",
       "      <td>it is so slow and lags find better option</td>\n",
       "      <td>[slow, lag, find, well, option]</td>\n",
       "    </tr>\n",
       "    <tr>\n",
       "      <th>3</th>\n",
       "      <td>neutral</td>\n",
       "      <td>roller ball stopped working within months of m...</td>\n",
       "      <td>[roller, ball, stop, work, month, minimal, use...</td>\n",
       "    </tr>\n",
       "    <tr>\n",
       "      <th>4</th>\n",
       "      <td>neutral</td>\n",
       "      <td>i like the color and size but it few days out ...</td>\n",
       "      <td>[like, color, size, day, return, period, not, ...</td>\n",
       "    </tr>\n",
       "  </tbody>\n",
       "</table>\n",
       "</div>"
      ],
      "text/plain": [
       "  sentiments                                     cleaned_review  \\\n",
       "0   positive  i wish would have gotten one earlier love it a...   \n",
       "1    neutral  i ve learned this lesson again open the packag...   \n",
       "2    neutral          it is so slow and lags find better option   \n",
       "3    neutral  roller ball stopped working within months of m...   \n",
       "4    neutral  i like the color and size but it few days out ...   \n",
       "\n",
       "                                              tokens  \n",
       "0  [wish, get, early, love, make, work, laptop, e...  \n",
       "1  [ve, learn, lesson, open, package, use, produc...  \n",
       "2                    [slow, lag, find, well, option]  \n",
       "3  [roller, ball, stop, work, month, minimal, use...  \n",
       "4  [like, color, size, day, return, period, not, ...  "
      ]
     },
     "execution_count": 15,
     "metadata": {},
     "output_type": "execute_result"
    }
   ],
   "source": [
    "df_clean.head()"
   ]
  },
  {
   "cell_type": "code",
   "execution_count": 16,
   "metadata": {},
   "outputs": [],
   "source": [
    "# Dropping unnecessary columns\n",
    "df_clean.drop(columns=['cleaned_review'],inplace=True)"
   ]
  },
  {
   "cell_type": "markdown",
   "metadata": {},
   "source": [
    "**Sentiment Mapping**"
   ]
  },
  {
   "cell_type": "code",
   "execution_count": 17,
   "metadata": {},
   "outputs": [],
   "source": [
    "# Mapping was changed due to the use of a neural network architecture\n",
    "sentiment_mapping = {'negative':0,'neutral':1,'positive':2} \n",
    "df_clean['sentiment_label'] = df_clean.sentiments.map(sentiment_mapping)"
   ]
  },
  {
   "cell_type": "code",
   "execution_count": 18,
   "metadata": {},
   "outputs": [],
   "source": [
    "df_clean.drop(columns=['sentiments'],inplace=True)"
   ]
  },
  {
   "cell_type": "markdown",
   "metadata": {},
   "source": [
    "**Text Sequencing**\n",
    "\n",
    "Now we tokenize the sentences and convert X into sequences of numbers:\n",
    "- Embedding layer expects the words to be in numeric form \n",
    "- Using Tokenizer function from keras.preprocessing.text library\n",
    "- Method fit_on_text trains the tokenizer \n",
    "- Method texts_to_sequences converts sentences to their numeric form"
   ]
  },
  {
   "cell_type": "code",
   "execution_count": 19,
   "metadata": {},
   "outputs": [],
   "source": [
    "X = df_clean[\"tokens\"]"
   ]
  },
  {
   "cell_type": "code",
   "execution_count": 20,
   "metadata": {},
   "outputs": [
    {
     "data": {
      "text/plain": [
       "['wish', 'get', 'early', 'love', 'make', 'work', 'laptop', 'easy']"
      ]
     },
     "execution_count": 20,
     "metadata": {},
     "output_type": "execute_result"
    }
   ],
   "source": [
    "X[0]"
   ]
  },
  {
   "cell_type": "code",
   "execution_count": 21,
   "metadata": {},
   "outputs": [
    {
     "data": {
      "text/plain": [
       "[153, 26, 758, 9, 124, 1, 51, 34]"
      ]
     },
     "execution_count": 21,
     "metadata": {},
     "output_type": "execute_result"
    }
   ],
   "source": [
    "word_tokenizer = Tokenizer()\n",
    "word_tokenizer.fit_on_texts(X)\n",
    "\n",
    "X = word_tokenizer.texts_to_sequences(X)\n",
    "X[0]"
   ]
  },
  {
   "cell_type": "code",
   "execution_count": 22,
   "metadata": {},
   "outputs": [
    {
     "name": "stdout",
     "output_type": "stream",
     "text": [
      "293\n"
     ]
    }
   ],
   "source": [
    "review_max_length = 0\n",
    "for i in df_clean['tokens']: \n",
    "    length = len(i)\n",
    "    if length > review_max_length:\n",
    "        review_max_length = length\n",
    "\n",
    "print(review_max_length) "
   ]
  },
  {
   "cell_type": "code",
   "execution_count": 23,
   "metadata": {},
   "outputs": [
    {
     "data": {
      "text/plain": [
       "7258"
      ]
     },
     "execution_count": 23,
     "metadata": {},
     "output_type": "execute_result"
    }
   ],
   "source": [
    "len(word_tokenizer.word_index)"
   ]
  },
  {
   "cell_type": "code",
   "execution_count": 24,
   "metadata": {},
   "outputs": [],
   "source": [
    "vocab = word_tokenizer.word_index.items()"
   ]
  },
  {
   "cell_type": "code",
   "execution_count": 25,
   "metadata": {},
   "outputs": [
    {
     "data": {
      "text/plain": [
       "7259"
      ]
     },
     "execution_count": 25,
     "metadata": {},
     "output_type": "execute_result"
    }
   ],
   "source": [
    "vocab_length = len(word_tokenizer.word_index) + 1\n",
    "vocab_length"
   ]
  },
  {
   "cell_type": "code",
   "execution_count": 26,
   "metadata": {},
   "outputs": [],
   "source": [
    "max_len = 300\n",
    "X = pad_sequences(X,padding=\"post\",maxlen=max_len)"
   ]
  },
  {
   "cell_type": "code",
   "execution_count": 27,
   "metadata": {},
   "outputs": [
    {
     "data": {
      "text/plain": [
       "1"
      ]
     },
     "execution_count": 27,
     "metadata": {},
     "output_type": "execute_result"
    }
   ],
   "source": [
    "X[1].shape # shape\n",
    "X[1].ndim # dimension"
   ]
  },
  {
   "cell_type": "markdown",
   "metadata": {},
   "source": [
    "### **Creating Embedding Matrix**"
   ]
  },
  {
   "cell_type": "code",
   "execution_count": 28,
   "metadata": {},
   "outputs": [],
   "source": [
    "import pickle\n",
    "# Loading saved word2vec glove_twitter_25.pkl\n",
    "vectorizer = pickle.load(open('../../../../word2vec_files/glove_twitter_200.pkl', \"rb\"))"
   ]
  },
  {
   "cell_type": "code",
   "execution_count": 29,
   "metadata": {},
   "outputs": [
    {
     "data": {
      "text/plain": [
       "1193514"
      ]
     },
     "execution_count": 29,
     "metadata": {},
     "output_type": "execute_result"
    }
   ],
   "source": [
    "len(vectorizer.key_to_index.keys()) "
   ]
  },
  {
   "cell_type": "code",
   "execution_count": 30,
   "metadata": {},
   "outputs": [],
   "source": [
    "# Create Embedding Matrix having 200 columns \n",
    "# Containing 200-dimensional GloVe word embeddings for all words in our corpus\n",
    "\n",
    "w2v_vector_size = vectorizer.vector_size\n",
    "embedding_matrix = np.zeros((vocab_length, w2v_vector_size)) \n",
    "# print(embedding_matrix.shape) # (7259, 200)\n",
    "# print(embedding_matrix.ndim) # 2-dimensional array"
   ]
  },
  {
   "cell_type": "code",
   "execution_count": 31,
   "metadata": {},
   "outputs": [],
   "source": [
    "for word, index in vocab:\n",
    "    if word in vectorizer.key_to_index.keys():\n",
    "        embedding_matrix[index] = vectorizer[word]\n",
    "    else:\n",
    "        embedding_matrix[index] = np.zeros(w2v_vector_size)"
   ]
  },
  {
   "cell_type": "code",
   "execution_count": 32,
   "metadata": {},
   "outputs": [],
   "source": [
    "# embedding_matrix.shape # (7259, 200)\n",
    "# embedding_matrix.ndim # 2-dimensional array"
   ]
  },
  {
   "cell_type": "markdown",
   "metadata": {},
   "source": [
    "### **Model Building**"
   ]
  },
  {
   "cell_type": "code",
   "execution_count": 33,
   "metadata": {},
   "outputs": [],
   "source": [
    "from sklearn.model_selection import train_test_split"
   ]
  },
  {
   "cell_type": "code",
   "execution_count": 34,
   "metadata": {},
   "outputs": [],
   "source": [
    "# y_nn = tf.keras.utils.to_categorical(df_clean['sentiment_label'], num_classes=3, dtype='int8')\n",
    "y_nn = tf.keras.utils.to_categorical(df_clean.sentiment_label.values, num_classes=3, dtype='int8')"
   ]
  },
  {
   "cell_type": "code",
   "execution_count": 35,
   "metadata": {},
   "outputs": [],
   "source": [
    "X_train, X_test, y_train,y_test= train_test_split(\n",
    "                                            X,y_nn,test_size=.2,random_state=42, \n",
    "                                            stratify=y_nn)\n",
    "# The train set will be used to train our deep learning models \n",
    "# while test set will be used to evaluate how well our model performs "
   ]
  },
  {
   "cell_type": "markdown",
   "metadata": {},
   "source": [
    "#### **Subclassing Approaches**"
   ]
  },
  {
   "cell_type": "markdown",
   "metadata": {},
   "source": [
    "Basic Subclassing; Same as both sequential & Functional approaches"
   ]
  },
  {
   "cell_type": "code",
   "execution_count": 36,
   "metadata": {},
   "outputs": [],
   "source": [
    "from tensorflow.keras.layers import Input,Concatenate\n",
    "from tensorflow.keras.models import Model\n",
    "from tensorflow.keras.utils import plot_model"
   ]
  },
  {
   "cell_type": "code",
   "execution_count": 37,
   "metadata": {},
   "outputs": [],
   "source": [
    "class MyModel(tf.keras.Model):\n",
    "    def __init__(self,num_classes,embedding_matrix):\n",
    "        super(MyModel, self).__init__()\n",
    "        # Creating the layer instance attributes\n",
    "        self.embedding = Embedding(vocab_length,w2v_vector_size,weights=[embedding_matrix],\n",
    "                                        input_length=max_len,trainable=False)\n",
    "        self.hidden1 = Bidirectional(LSTM(128,return_sequences=True),name=\"hidden1\")\n",
    "        self.hidden2 = Bidirectional(LSTM(128),name=\"hidden2\")\n",
    "        self.classifier = Dense(num_classes, activation=\"softmax\")\n",
    "\n",
    "    def call(self,input_tensor,training=False):\n",
    "        embedding_layer = self.embedding(input_tensor)\n",
    "        x = self.hidden1(embedding_layer)\n",
    "        x = self.hidden2(x)\n",
    "        x = self.classifier(x)\n",
    "        return x\n",
    "\n",
    "    def build_graph(self, raw_shape):\n",
    "        x = tf.keras.layers.Input(shape=(raw_shape), \n",
    "                                         ragged=True)\n",
    "        return tf.keras.Model(inputs=[x], \n",
    "                              outputs=self.call(x))"
   ]
  },
  {
   "cell_type": "code",
   "execution_count": 38,
   "metadata": {},
   "outputs": [],
   "source": [
    "input_layer = tf.keras.layers.Input(shape=(300), name=\"supply\")\n",
    "model = MyModel(3,embedding_matrix)"
   ]
  },
  {
   "cell_type": "code",
   "execution_count": 39,
   "metadata": {},
   "outputs": [
    {
     "name": "stdout",
     "output_type": "stream",
     "text": [
      "Model: \"model\"\n",
      "_________________________________________________________________\n",
      " Layer (type)                Output Shape              Param #   \n",
      "=================================================================\n",
      " input_1 (InputLayer)        [(None, 300)]             0         \n",
      "                                                                 \n",
      " embedding (Embedding)       (None, 300, 200)          1451800   \n",
      "                                                                 \n",
      " hidden1 (Bidirectional)     (None, 300, 256)          336896    \n",
      "                                                                 \n",
      " hidden2 (Bidirectional)     (None, 256)               394240    \n",
      "                                                                 \n",
      " dense (Dense)               (None, 3)                 771       \n",
      "                                                                 \n",
      "=================================================================\n",
      "Total params: 2,183,707\n",
      "Trainable params: 731,907\n",
      "Non-trainable params: 1,451,800\n",
      "_________________________________________________________________\n"
     ]
    }
   ],
   "source": [
    "model.compile(optimizer='adam',loss='categorical_crossentropy',metrics=['acc'])\n",
    "# model.build(input_layer.shape)\n",
    "model.build_graph(300).summary()"
   ]
  },
  {
   "cell_type": "code",
   "execution_count": 40,
   "metadata": {},
   "outputs": [],
   "source": [
    "# How Training and Evaluation is done for this method\n",
    "\n",
    "# bi_lstm_model.compile(optimizer='adam',loss='categorical_crossentropy',metrics=['acc'])\n",
    "\n",
    "# # Model training\n",
    "# bi_lstm_model_history = bi_lstm_model.fit(\n",
    "#     X_train,y_train,batch_size=128,epochs=10, verbose=1, validation_split=.2\n",
    "# )\n",
    "\n",
    "# # Evaluations on the Test Set\n",
    "# score = bi_lstm_model.evaluate(X_test, y_test, verbose=1)"
   ]
  },
  {
   "cell_type": "markdown",
   "metadata": {},
   "source": [
    "Wide and Deep Neural network"
   ]
  },
  {
   "cell_type": "code",
   "execution_count": 41,
   "metadata": {},
   "outputs": [
    {
     "data": {
      "image/png": "[encoded data removed]",
      "text/plain": [
       "<PIL.PngImagePlugin.PngImageFile image mode=RGBA size=767x693>"
      ]
     },
     "execution_count": 41,
     "metadata": {},
     "output_type": "execute_result"
    }
   ],
   "source": [
    "from PIL import Image\n",
    "img =Image.open(\"../img/WideandDeepNeuralNetwork.png\")\n",
    "img\n",
    "\n",
    "# Refer to page 305 of Hands-on Machine Learning with Scikit-Learn, Keras, \n",
    "# and TensorFlow Concepts, Tools, \n",
    "# and Techniques to Build Intelligent Systems by Aurélien Géron \n",
    "# June 2019: Second Edition"
   ]
  },
  {
   "cell_type": "code",
   "execution_count": 42,
   "metadata": {},
   "outputs": [],
   "source": [
    "class MyModel(tf.keras.Model):\n",
    "    def __init__(self,num_classes,embedding_matrix):\n",
    "        super(MyModel, self).__init__()\n",
    "        # Creating the layer instance attributes\n",
    "        self.embedding = Embedding(vocab_length,w2v_vector_size,weights=[embedding_matrix],\n",
    "                                        input_length=max_len,trainable=False)\n",
    "        self.hidden1 = Bidirectional(LSTM(128,return_sequences=True),name=\"hidden1\")\n",
    "        self.hidden2 = Bidirectional(LSTM(128),name=\"hidden2\")\n",
    "        self.concat = tf.keras.layers.Concatenate()\n",
    "        self.classifier = Dense(num_classes, activation=\"softmax\")\n",
    "\n",
    "    def call(self,input_tensor,training=False):\n",
    "        embedding_layer = self.embedding(input_tensor)\n",
    "        x = self.hidden1(embedding_layer)\n",
    "        x = self.hidden2(x)\n",
    "        x = self.concat([input_tensor,x])\n",
    "        x = self.classifier(x)\n",
    "        return x\n",
    "\n",
    "    def build_graph(self, raw_shape):\n",
    "        x = tf.keras.layers.Input(shape=(raw_shape), \n",
    "                                         ragged=True)\n",
    "        return tf.keras.Model(inputs=[x], \n",
    "                              outputs=self.call(x))"
   ]
  },
  {
   "cell_type": "code",
   "execution_count": 43,
   "metadata": {},
   "outputs": [],
   "source": [
    "input_layer = tf.keras.layers.Input(shape=(300), name=\"supply\")\n",
    "model = MyModel(3,embedding_matrix)"
   ]
  },
  {
   "cell_type": "code",
   "execution_count": 44,
   "metadata": {},
   "outputs": [
    {
     "name": "stdout",
     "output_type": "stream",
     "text": [
      "Model: \"model_1\"\n",
      "__________________________________________________________________________________________________\n",
      " Layer (type)                   Output Shape         Param #     Connected to                     \n",
      "==================================================================================================\n",
      " input_2 (InputLayer)           [(None, 300)]        0           []                               \n",
      "                                                                                                  \n",
      " embedding_1 (Embedding)        (None, 300, 200)     1451800     ['input_2[0][0]']                \n",
      "                                                                                                  \n",
      " hidden1 (Bidirectional)        (None, 300, 256)     336896      ['embedding_1[0][0]']            \n",
      "                                                                                                  \n",
      " hidden2 (Bidirectional)        (None, 256)          394240      ['hidden1[0][0]']                \n",
      "                                                                                                  \n",
      " concatenate (Concatenate)      (None, 556)          0           ['input_2[0][0]',                \n",
      "                                                                  'hidden2[0][0]']                \n",
      "                                                                                                  \n",
      " dense_1 (Dense)                (None, 3)            1671        ['concatenate[0][0]']            \n",
      "                                                                                                  \n",
      "==================================================================================================\n",
      "Total params: 2,184,607\n",
      "Trainable params: 732,807\n",
      "Non-trainable params: 1,451,800\n",
      "__________________________________________________________________________________________________\n"
     ]
    }
   ],
   "source": [
    "model.compile(optimizer='adam',loss='categorical_crossentropy',metrics=['acc'])\n",
    "# model.build(input_layer.shape)\n",
    "model.build_graph(300).summary()"
   ]
  },
  {
   "cell_type": "code",
   "execution_count": 45,
   "metadata": {},
   "outputs": [],
   "source": [
    "# How Training and Evaluation is done for this method\n",
    "\n",
    "# bi_lstm_model.compile(optimizer='adam',loss='categorical_crossentropy',metrics=['acc'])\n",
    "\n",
    "# # Model training\n",
    "# bi_lstm_model_history = bi_lstm_model.fit(\n",
    "#     X_train,y_train,batch_size=128,epochs=10, verbose=1, validation_split=.2\n",
    "# )\n",
    "\n",
    "# # Evaluations on the Test Set\n",
    "# score = bi_lstm_model.evaluate(X_test, y_test, verbose=1)"
   ]
  },
  {
   "cell_type": "markdown",
   "metadata": {},
   "source": [
    "Residual Block"
   ]
  },
  {
   "cell_type": "code",
   "execution_count": 46,
   "metadata": {},
   "outputs": [],
   "source": [
    "from tensorflow.keras.layers import Add"
   ]
  },
  {
   "cell_type": "code",
   "execution_count": 47,
   "metadata": {},
   "outputs": [],
   "source": [
    "class MyModel(tf.keras.layers.Layer):\n",
    "    def __init__(self,embedding_matrix):\n",
    "        super(MyModel, self).__init__()\n",
    "        # Creating the layer instance attributes\n",
    "        self.embedding = Embedding(vocab_length,w2v_vector_size,weights=[embedding_matrix],\n",
    "                                        input_length=max_len,trainable=False)\n",
    "        self.hidden1 = LSTM(128,return_sequences=True,name=\"hidden1\")\n",
    "\n",
    "\n",
    "    def call(self,input_tensor,training=False):\n",
    "        embedding_layer = self.embedding(input_tensor)\n",
    "        x = self.hidden1(embedding_layer)\n",
    "        return x\n",
    "\n",
    "    def build_graph(self, raw_shape):\n",
    "        x = tf.keras.layers.Input(shape=(raw_shape), \n",
    "                                         ragged=True)\n",
    "\n",
    "        return tf.keras.Model(inputs=[x], \n",
    "                              outputs=self.call(x))"
   ]
  },
  {
   "cell_type": "code",
   "execution_count": 48,
   "metadata": {},
   "outputs": [],
   "source": [
    "class Residual(tf.keras.layers.Layer):\n",
    "    def __init__(self):\n",
    "        super(Residual, self).__init__()\n",
    "        # Creating the layer instance attributes\n",
    "        # residual_blocks\n",
    "        self.residual_block1 = Bidirectional(LSTM(128,return_sequences=True), name=\"identity_block_hidden1\") # 128 + 128 = 256\n",
    "        self.residual_block2 = Bidirectional(LSTM(64,return_sequences=True), name=\"identity_block_hidden2\") # 64 + 64 = 128\n",
    "        self.add_layer = tf.keras.layers.Add()\n",
    "        \n",
    "        \n",
    "\n",
    "    def call(self,input_tensor,training=False):\n",
    "        identity = input_tensor\n",
    "        x = self.residual_block1(input_tensor)\n",
    "        x = self.residual_block2(x)\n",
    "        added = self.add_layer([identity,x])\n",
    "        return added\n",
    "\n",
    "    def build_graph(self, raw_shape):\n",
    "        x = tf.keras.layers.Input(shape=(raw_shape), \n",
    "                                         ragged=True)\n",
    "\n",
    "        return tf.keras.Model(inputs=[x], \n",
    "                              outputs=self.call(x))"
   ]
  },
  {
   "cell_type": "code",
   "execution_count": 49,
   "metadata": {},
   "outputs": [],
   "source": [
    "class MyModelClassifier(tf.keras.Model):\n",
    "# class MyModel(tf.keras.Model):\n",
    "    def __init__(self):\n",
    "        super(MyModelClassifier, self).__init__()\n",
    "        # Creating the layer instance attributes\n",
    "        self.outer_layer = MyModel(embedding_matrix)\n",
    "        self.residual = Residual()\n",
    "        self.hidden3 = LSTM(32,name=\"hidden3\")\n",
    "        self.classifier = Dense(3, activation=\"softmax\")\n",
    "\n",
    "    def call(self,input_tensor,training=False):\n",
    "        x = self.outer_layer(input_tensor) \n",
    "        x = self.residual(x)\n",
    "        x = self.hidden3(x)\n",
    "        x = self.classifier(x)\n",
    "\n",
    "        return x\n",
    "\n",
    "    def build_graph(self, raw_shape):\n",
    "        x = tf.keras.layers.Input(shape=(raw_shape), \n",
    "                                         ragged=True)\n",
    "\n",
    "        return tf.keras.Model(inputs=[x], \n",
    "                              outputs=self.call(x))"
   ]
  },
  {
   "cell_type": "code",
   "execution_count": 50,
   "metadata": {},
   "outputs": [],
   "source": [
    "input_layer = tf.keras.layers.Input(shape=300, name=\"supply\")\n",
    "model = MyModelClassifier()"
   ]
  },
  {
   "cell_type": "code",
   "execution_count": 51,
   "metadata": {},
   "outputs": [
    {
     "name": "stdout",
     "output_type": "stream",
     "text": [
      "Model: \"model_2\"\n",
      "_________________________________________________________________\n",
      " Layer (type)                Output Shape              Param #   \n",
      "=================================================================\n",
      " input_3 (InputLayer)        [(None, 300)]             0         \n",
      "                                                                 \n",
      " my_model_2 (MyModel)        (None, 300, 128)          1620248   \n",
      "                                                                 \n",
      " residual (Residual)         (None, 300, 128)          427520    \n",
      "                                                                 \n",
      " hidden3 (LSTM)              (None, 32)                20608     \n",
      "                                                                 \n",
      " dense_2 (Dense)             (None, 3)                 99        \n",
      "                                                                 \n",
      "=================================================================\n",
      "Total params: 2,068,475\n",
      "Trainable params: 616,675\n",
      "Non-trainable params: 1,451,800\n",
      "_________________________________________________________________\n"
     ]
    }
   ],
   "source": [
    "model.compile(optimizer='adam',loss='categorical_crossentropy',metrics=['acc'])\n",
    "# model.build(input_layer.shape)\n",
    "model.build_graph(300).summary()"
   ]
  },
  {
   "cell_type": "code",
   "execution_count": 52,
   "metadata": {},
   "outputs": [],
   "source": [
    "# How Training and Evaluation is done for this method\n",
    "\n",
    "# bi_lstm_model.compile(optimizer='adam',loss='categorical_crossentropy',metrics=['acc'])\n",
    "\n",
    "# # Model training\n",
    "# bi_lstm_model_history = bi_lstm_model.fit(\n",
    "#     X_train,y_train,batch_size=128,epochs=10, verbose=1, validation_split=.2\n",
    "# )\n",
    "\n",
    "# # Evaluations on the Test Set\n",
    "# score = bi_lstm_model.evaluate(X_test, y_test, verbose=1)"
   ]
  },
  {
   "cell_type": "code",
   "execution_count": 53,
   "metadata": {},
   "outputs": [
    {
     "name": "stdout",
     "output_type": "stream",
     "text": [
      " Train: (13869, 300)\n",
      " Train_A: (13869, 100)\n",
      " Train_B: (13869, 200)\n",
      " Test: (3468, 300)\n",
      " Test_A: (3468, 100)\n",
      " Test_B: (3468, 200)\n"
     ]
    }
   ],
   "source": [
    "X_train_A, X_train_B = X_train[:, :100], X_train[:, 100:]\n",
    "X_test_A, X_test_B = X_test[:, :100], X_test[:, 100:]\n",
    "print(\" Train: {}\".format(X_train.shape))\n",
    "print(\" Train_A: {}\".format(X_train_A.shape))\n",
    "print(\" Train_B: {}\".format(X_train_B.shape))\n",
    "print(\" Test: {}\".format(X_test.shape))\n",
    "print(\" Test_A: {}\".format(X_test_A.shape))\n",
    "print(\" Test_B: {}\".format(X_test_B.shape))"
   ]
  },
  {
   "cell_type": "markdown",
   "metadata": {},
   "source": [
    "Handling Multiple Inputs"
   ]
  },
  {
   "cell_type": "code",
   "execution_count": 54,
   "metadata": {},
   "outputs": [
    {
     "data": {
      "image/png": "[encoded data removed]",
      "text/plain": [
       "<PIL.PngImagePlugin.PngImageFile image mode=RGBA size=781x689>"
      ]
     },
     "execution_count": 54,
     "metadata": {},
     "output_type": "execute_result"
    }
   ],
   "source": [
    "from PIL import Image\n",
    "img =Image.open(\"../img/HandlingMultipleInputs.png\")\n",
    "img\n",
    "\n",
    "# Refer to page 307 of Hands-on Machine Learning with Scikit-Learn, Keras, \n",
    "# and TensorFlow Concepts, Tools, \n",
    "# and Techniques to Build Intelligent Systems by Aurélien Géron \n",
    "# June 2019: Second Edition"
   ]
  },
  {
   "cell_type": "code",
   "execution_count": 55,
   "metadata": {},
   "outputs": [],
   "source": [
    "class MyModel(tf.keras.layers.Layer):\n",
    "# class MyModel(tf.keras.Model):\n",
    "    def __init__(self,embedding_matrix):\n",
    "        super(MyModel, self).__init__()\n",
    "        # Creating the layer instance attributes\n",
    "        self.embedding = Embedding(vocab_length,w2v_vector_size,weights=[embedding_matrix],\n",
    "                                        input_length=max_len,trainable=False)\n",
    "        self.hidden1 = Bidirectional(LSTM(128,return_sequences=True),name=\"hidden1\")\n",
    "        self.hidden2 = Bidirectional(LSTM(128),name=\"hidden2\")\n",
    "        \n",
    "\n",
    "\n",
    "    def call(self,input_tensor,training=False):\n",
    "        embedding_layer = self.embedding(input_tensor)\n",
    "        x = self.hidden1(embedding_layer)\n",
    "        x = self.hidden2(x)\n",
    "        return x\n",
    "\n",
    "    def build_graph(self, raw_shape):\n",
    "        x = tf.keras.layers.Input(shape=(raw_shape), \n",
    "                                         ragged=True)\n",
    "\n",
    "        return tf.keras.Model(inputs=[x], \n",
    "                              outputs=self.call(x))"
   ]
  },
  {
   "cell_type": "code",
   "execution_count": 56,
   "metadata": {},
   "outputs": [
    {
     "name": "stdout",
     "output_type": "stream",
     "text": [
      "Model: \"model_3\"\n",
      "__________________________________________________________________________________________________\n",
      " Layer (type)                   Output Shape         Param #     Connected to                     \n",
      "==================================================================================================\n",
      " supply1 (InputLayer)           [(None, 100)]        0           []                               \n",
      "                                                                                                  \n",
      " supply2 (InputLayer)           [(None, 200)]        0           []                               \n",
      "                                                                                                  \n",
      " my_model_3 (MyModel)           (None, 256)          2182936     ['supply1[0][0]']                \n",
      "                                                                                                  \n",
      " concatenate_1 (Concatenate)    (None, 456)          0           ['supply2[0][0]',                \n",
      "                                                                  'my_model_3[0][0]']             \n",
      "                                                                                                  \n",
      " Output_layer (Dense)           (None, 3)            1371        ['concatenate_1[0][0]']          \n",
      "                                                                                                  \n",
      "==================================================================================================\n",
      "Total params: 2,184,307\n",
      "Trainable params: 732,507\n",
      "Non-trainable params: 1,451,800\n",
      "__________________________________________________________________________________________________\n"
     ]
    }
   ],
   "source": [
    "input_a = Input(shape=(100,), name=\"supply1\")\n",
    "input_b = Input(shape=(200,), name=\"supply2\")\n",
    "\n",
    "x = MyModel(embedding_matrix)(input_a)\n",
    "contact= Concatenate()([input_b,x])\n",
    "x = Dense(3, name='Output_layer',activation=\"softmax\")(contact)\n",
    "model = Model(inputs=[input_a,input_b], outputs=x)\n",
    "model.summary()"
   ]
  },
  {
   "cell_type": "code",
   "execution_count": 57,
   "metadata": {},
   "outputs": [],
   "source": [
    "# How Training and Evaluation is done for this method\n",
    "\n",
    "# bi_lstm_model.compile(optimizer='adam',loss='categorical_crossentropy',metrics=['acc'])\n",
    "\n",
    "# Model training\n",
    "# bi_lstm_model_history = bi_lstm_model.fit(\n",
    "#     (X_train_A,X_train_B),y_train,batch_size=128,epochs=10, verbose=1, validation_split=.2\n",
    "# )\n",
    "\n",
    "# Predictions on the Test Set\n",
    "# score = bi_lstm_model.evaluate((X_test_A,X_test_B), y_test, verbose=1)"
   ]
  },
  {
   "cell_type": "markdown",
   "metadata": {},
   "source": [
    "Handling Multiple Outputs- Auxiliary Output for Regularization"
   ]
  },
  {
   "cell_type": "code",
   "execution_count": 58,
   "metadata": {},
   "outputs": [
    {
     "data": {
      "image/png": "[encoded data removed]",
      "text/plain": [
       "<PIL.PngImagePlugin.PngImageFile image mode=RGBA size=743x503>"
      ]
     },
     "execution_count": 58,
     "metadata": {},
     "output_type": "execute_result"
    }
   ],
   "source": [
    "from PIL import Image\n",
    "img =Image.open(\"../img/HandlingMultipleOutputs_AuxiliaryOutputforRegularization.png\")\n",
    "img\n",
    "\n",
    "# Refer to page 308 of Hands-on Machine Learning with Scikit-Learn, Keras, \n",
    "# and TensorFlow Concepts, Tools, \n",
    "# and Techniques to Build Intelligent Systems by Aurélien Géron \n",
    "# June 2019: Second Edition"
   ]
  },
  {
   "cell_type": "code",
   "execution_count": 59,
   "metadata": {},
   "outputs": [],
   "source": [
    "class MyModel(tf.keras.layers.Layer):\n",
    "# class MyModel(tf.keras.Model):\n",
    "    def __init__(self,embedding_matrix):\n",
    "        super(MyModel, self).__init__()\n",
    "        # Creating the layer instance attributes\n",
    "        self.embedding = Embedding(vocab_length,w2v_vector_size,weights=[embedding_matrix],\n",
    "                                        input_length=max_len,trainable=False)\n",
    "        self.hidden1 = Bidirectional(LSTM(128,return_sequences=True),name=\"hidden1\")\n",
    "        self.hidden2 = Bidirectional(LSTM(128),name=\"hidden2\")\n",
    "        \n",
    "\n",
    "\n",
    "    def call(self,input_tensor,training=False):\n",
    "        embedding_layer = self.embedding(input_tensor)\n",
    "        x = self.hidden1(embedding_layer)\n",
    "        x = self.hidden2(x)\n",
    "        return x\n",
    "\n",
    "    def build_graph(self, raw_shape):\n",
    "        x = tf.keras.layers.Input(shape=(raw_shape), \n",
    "                                         ragged=True)\n",
    "\n",
    "        return tf.keras.Model(inputs=[x], \n",
    "                              outputs=self.call(x))"
   ]
  },
  {
   "cell_type": "code",
   "execution_count": 60,
   "metadata": {},
   "outputs": [
    {
     "name": "stdout",
     "output_type": "stream",
     "text": [
      "Model: \"model_4\"\n",
      "__________________________________________________________________________________________________\n",
      " Layer (type)                   Output Shape         Param #     Connected to                     \n",
      "==================================================================================================\n",
      " supply1 (InputLayer)           [(None, 100)]        0           []                               \n",
      "                                                                                                  \n",
      " supply2 (InputLayer)           [(None, 200)]        0           []                               \n",
      "                                                                                                  \n",
      " my_model_4 (MyModel)           (None, 256)          2182936     ['supply1[0][0]']                \n",
      "                                                                                                  \n",
      " concatenate_2 (Concatenate)    (None, 456)          0           ['supply2[0][0]',                \n",
      "                                                                  'my_model_4[0][0]']             \n",
      "                                                                                                  \n",
      " Output_layer (Dense)           (None, 3)            1371        ['concatenate_2[0][0]']          \n",
      "                                                                                                  \n",
      " Aux_output_layer (Dense)       (None, 3)            771         ['my_model_4[0][0]']             \n",
      "                                                                                                  \n",
      "==================================================================================================\n",
      "Total params: 2,185,078\n",
      "Trainable params: 733,278\n",
      "Non-trainable params: 1,451,800\n",
      "__________________________________________________________________________________________________\n"
     ]
    }
   ],
   "source": [
    "input_a = Input(shape=(100,), name=\"supply1\")\n",
    "input_b = Input(shape=(200,), name=\"supply2\")\n",
    "\n",
    "x = MyModel(embedding_matrix)(input_a)\n",
    "contact= Concatenate()([input_b,x])\n",
    "# from contact\n",
    "output = Dense(3, name='Output_layer',activation=\"softmax\")(contact)\n",
    "# from hidden2\n",
    "aux_output = Dense(3, name='Aux_output_layer',activation=\"softmax\")(x)\n",
    "model = Model(inputs=[input_a,input_b], outputs=[output,aux_output])\n",
    "model.summary()"
   ]
  },
  {
   "cell_type": "code",
   "execution_count": 61,
   "metadata": {},
   "outputs": [],
   "source": [
    "# # How Training and Evaluation is done for this method\n",
    "\n",
    "# bi_lstm_model.compile(optimizer='adam',loss='categorical_crossentropy',metrics=['acc'])\n",
    "\n",
    "\n",
    "# # Model training\n",
    "# bi_lstm_model_history = bi_lstm_model.fit(\n",
    "#     (X_train_A,X_train_B),(y_train,y_train),batch_size=128,epochs=10, verbose=1, validation_split=.2\n",
    "# )\n",
    "\n",
    "# # Predictions on the Test Set\n",
    "# score = bi_lstm_model.evaluate((X_test_A,X_test_B), (y_test,y_test), verbose=1)"
   ]
  },
  {
   "cell_type": "markdown",
   "metadata": {},
   "source": [
    "### **Classification report for each method**"
   ]
  },
  {
   "cell_type": "markdown",
   "metadata": {},
   "source": [
    "The below classification report approach applies to the following; \n",
    "- Basic Functional; Same as sequential approach\n",
    "- Wide and Deep Neural network\n",
    "- Residual Block"
   ]
  },
  {
   "cell_type": "code",
   "execution_count": 62,
   "metadata": {},
   "outputs": [],
   "source": [
    "# # Classification report test data\n",
    "# from sklearn.metrics import classification_report,confusion_matrix,ConfusionMatrixDisplay\n",
    "# y_true=np.argmax(y_test, axis=1)\n",
    "# y_pred_test = bi_lstm_model.predict(X_test)\n",
    "# y_pred_test=np.argmax(y_pred_test, axis=1)\n",
    "# sns.set_theme(style='white')\n",
    "# def class_report(model,y_true,pred):\n",
    "#     print(classification_report(y_true,pred))\n",
    "#     cm = confusion_matrix(y_true,pred,labels=[0,1,2])\n",
    "#     disp = ConfusionMatrixDisplay(confusion_matrix=cm, display_labels=[0,1,2])\n",
    "#     disp.plot()\n",
    "#     plt.show()\n",
    "\n",
    "\n",
    "# class_report(bi_lstm_model,y_true,y_pred_test) \n",
    "\n",
    "# # Original mapping\n",
    "# # sentiment_mapping = {'negative':-1,'neutral':0,'positive':1}\n",
    "\n",
    "# # New mapping\n",
    "# # negative --> 0\n",
    "# # neutral --> 1\n",
    "# # positive --> 2"
   ]
  },
  {
   "cell_type": "markdown",
   "metadata": {},
   "source": [
    "Handling Multiple Inputs"
   ]
  },
  {
   "cell_type": "code",
   "execution_count": 63,
   "metadata": {},
   "outputs": [],
   "source": [
    "# # Classification report test data\n",
    "# from sklearn.metrics import classification_report,confusion_matrix,ConfusionMatrixDisplay\n",
    "# y_true=np.argmax(y_test, axis=1)\n",
    "# y_pred_test = bi_lstm_model.predict((X_test_A,X_test_B)) # Handling multiple inputs\n",
    "# y_pred_test=np.argmax(y_pred_test, axis=1)\n",
    "# sns.set_theme(style='white')\n",
    "# def class_report(model,y_true,pred):\n",
    "#     print(classification_report(y_true,pred))\n",
    "#     cm = confusion_matrix(y_true,pred,labels=[0,1,2])\n",
    "#     disp = ConfusionMatrixDisplay(confusion_matrix=cm, display_labels=[0,1,2])\n",
    "#     disp.plot()\n",
    "#     plt.show()\n",
    "\n",
    "\n",
    "# class_report(bi_lstm_model,y_true,y_pred_test) \n",
    "\n",
    "# # Original mapping\n",
    "# # sentiment_mapping = {'negative':-1,'neutral':0,'positive':1}\n",
    "\n",
    "# # New mapping\n",
    "# # negative --> 0\n",
    "# # neutral --> 1\n",
    "# # positive --> 2"
   ]
  },
  {
   "cell_type": "markdown",
   "metadata": {},
   "source": [
    "Handling Multiple Outputs- Auxiliary Output for Regularization"
   ]
  },
  {
   "cell_type": "code",
   "execution_count": 64,
   "metadata": {},
   "outputs": [],
   "source": [
    "# # Classification report test data\n",
    "# from sklearn.metrics import classification_report,confusion_matrix,ConfusionMatrixDisplay\n",
    "# y_true=np.argmax(y_test, axis=1)\n",
    "# y_pred_main, y_pred_aux = bi_lstm_model.predict((X_test_A,X_test_B))\n",
    "\n",
    "# y_pred_main=np.argmax(y_pred_main, axis=1)\n",
    "# y_pred_aux=np.argmax(y_pred_aux, axis=1)\n",
    "# sns.set_theme(style='white')\n",
    "# def class_report(model,y_true,pred):\n",
    "#     print(classification_report(y_true,pred))\n",
    "#     cm = confusion_matrix(y_true,pred,labels=[0,1,2])\n",
    "#     disp = ConfusionMatrixDisplay(confusion_matrix=cm, display_labels=[0,1,2])\n",
    "#     disp.plot()\n",
    "#     plt.show()\n",
    "\n",
    "\n",
    "# class_report(bi_lstm_model,y_true,y_pred_main) \n",
    "# class_report(bi_lstm_model,y_true,y_pred_aux) \n",
    "\n",
    "# # Original mapping\n",
    "# # sentiment_mapping = {'negative':-1,'neutral':0,'positive':1}\n",
    "\n",
    "# # New mapping\n",
    "# # negative --> 0\n",
    "# # neutral --> 1\n",
    "# # positive --> 2"
   ]
  }
 ],
 "metadata": {
  "kernelspec": {
   "display_name": "Python 3.8.13 (conda)",
   "language": "python",
   "name": "python3"
  },
  "language_info": {
   "codemirror_mode": {
    "name": "ipython",
    "version": 3
   },
   "file_extension": ".py",
   "mimetype": "text/x-python",
   "name": "python",
   "nbconvert_exporter": "python",
   "pygments_lexer": "ipython3",
   "version": "3.8.13"
  },
  "orig_nbformat": 4,
  "vscode": {
   "interpreter": {
    "hash": "0d3784fccdc90acbf957f8297e7e306d4c8b14c1a207bd5307d0795df9a8d77b"
   }
  }
 },
 "nbformat": 4,
 "nbformat_minor": 2
}
